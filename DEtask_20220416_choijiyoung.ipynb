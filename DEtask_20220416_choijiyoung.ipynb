{
 "cells": [
  {
   "cell_type": "markdown",
   "id": "89bb1e10",
   "metadata": {},
   "source": [
    "# 과제 진행을 위한 사전 준비"
   ]
  },
  {
   "cell_type": "markdown",
   "id": "719abe2b",
   "metadata": {},
   "source": [
    "##### psycopg2 설치"
   ]
  },
  {
   "cell_type": "code",
   "execution_count": 1,
   "id": "0c9a7d1d",
   "metadata": {},
   "outputs": [
    {
     "name": "stdout",
     "output_type": "stream",
     "text": [
      "Requirement already satisfied: psycopg2-binary in c:\\users\\shine\\anaconda3\\lib\\site-packages (2.9.3)\n",
      "Note: you may need to restart the kernel to use updated packages.\n"
     ]
    }
   ],
   "source": [
    "pip install psycopg2-binary"
   ]
  },
  {
   "cell_type": "markdown",
   "id": "3f201a3b",
   "metadata": {},
   "source": [
    "##### PostgreSQL - Python 연동"
   ]
  },
  {
   "cell_type": "code",
   "execution_count": 2,
   "id": "018df56c",
   "metadata": {},
   "outputs": [],
   "source": [
    "import psycopg2\n",
    "connection = psycopg2.connect(\"host=49.50.167.136 dbname=synthea_1000 user= walker102 password=forcebewithyou port=5432\")"
   ]
  },
  {
   "cell_type": "code",
   "execution_count": 3,
   "id": "2019a5bf",
   "metadata": {},
   "outputs": [],
   "source": [
    "cur = connection.cursor()"
   ]
  },
  {
   "cell_type": "code",
   "execution_count": 4,
   "id": "4edbb5db",
   "metadata": {},
   "outputs": [
    {
     "name": "stdout",
     "output_type": "stream",
     "text": [
      "(402435,)\n"
     ]
    }
   ],
   "source": [
    "# test\n",
    "cur.execute(\"SELECT person_id from person\")\n",
    "print(cur.fetchone())"
   ]
  },
  {
   "cell_type": "markdown",
   "id": "57283930",
   "metadata": {},
   "source": [
    "# 문제 풀이\n",
    "## 1번 문제 \n",
    "visit_occurrence에서 모든 환자에 대한 내원 일수 구한 수 내원 일수의 최댓값과 그 환자를 찾기 "
   ]
  },
  {
   "cell_type": "code",
   "execution_count": 5,
   "id": "a30e7969",
   "metadata": {
    "scrolled": true
   },
   "outputs": [
    {
     "name": "stdout",
     "output_type": "stream",
     "text": [
      "(1059760, 18873)\n"
     ]
    }
   ],
   "source": [
    "cur.execute(\"\"\"with temp as ( \n",
    "                    select person_id, \n",
    "                           sum(vo.visit_end_date - vo.visit_start_date +1) as visit_cnt\n",
    "                    from visit_occurrence as vo\n",
    "                    group by person_id)\n",
    "                select person_id, \n",
    "                       visit_cnt\n",
    "                from temp\n",
    "                where visit_cnt = (select max(visit_cnt) from temp);\"\"\")\n",
    "# person_id, visit_cnt\n",
    "print(cur.fetchone()) "
   ]
  },
  {
   "cell_type": "markdown",
   "id": "5a917a7d",
   "metadata": {},
   "source": [
    "## 2번 문제\n",
    "환자들이 진단받은 병명 중에 a,b,c,d,e 로 시작하고 중간에 heart가 포함된 것 찾기\n",
    ",코드도 함께"
   ]
  },
  {
   "cell_type": "code",
   "execution_count": 6,
   "id": "73161e0a",
   "metadata": {
    "scrolled": true
   },
   "outputs": [
    {
     "name": "stdout",
     "output_type": "stream",
     "text": [
      "(4229440, 'Chronic congestive heart failure')\n"
     ]
    }
   ],
   "source": [
    "cur.execute(\"\"\"with temp as (\n",
    "                    select co.condition_concept_id, \n",
    "                           c.concept_name \n",
    "                    from concept as c\n",
    "                    join condition_occurrence as co \n",
    "                      on c.concept_id = co.condition_concept_id\n",
    "                    where concept_name ~* '^a|^b|^c|^d|^e')\n",
    "            select temp.condition_concept_id, \n",
    "                   temp.concept_name\n",
    "            from temp\n",
    "            where concept_name like '%heart%'\n",
    "            group by condition_concept_id, \n",
    "                     concept_name;\"\"\")\n",
    "# condition_concept_id, concept_name\n",
    "print(cur.fetchone()) "
   ]
  },
  {
   "cell_type": "markdown",
   "id": "60b49620",
   "metadata": {},
   "source": [
    "## 3번 문제\n",
    "drug_exposure에서 '1891866'환자의 처방된 약 종류별로 처음 시작일, 마지막 종료일, 복용일(enddate-startdate+1)을 구하고 복용일이 긴 순으로 정렬하여 테이블 생성"
   ]
  },
  {
   "cell_type": "markdown",
   "id": "15fdffb7",
   "metadata": {},
   "source": [
    "###### 자료를 넣을 테이블을 생성하기 위한 SQL쿼리문\n",
    "create table drug_take (drug_concept_id int, take_start_date timestamp, take_end_date timestamp, take_cnt int);"
   ]
  },
  {
   "cell_type": "code",
   "execution_count": 7,
   "id": "3138c0de",
   "metadata": {},
   "outputs": [
    {
     "name": "stdout",
     "output_type": "stream",
     "text": [
      "[(19009384, datetime.date(1959, 12, 1), datetime.date(1998, 10, 6), 14424), (1539463, datetime.date(1990, 3, 13), datetime.date(1998, 3, 11), 5484), (19030765, datetime.date(1988, 10, 18), datetime.date(1998, 10, 5), 1214), (40213154, datetime.date(1989, 9, 12), datetime.date(1998, 7, 7), 10), (40213227, datetime.date(1993, 1, 5), datetime.date(1993, 1, 5), 1)]\n"
     ]
    }
   ],
   "source": [
    "# connection.rollback()\n",
    "cur.execute(\"\"\"select drug_concept_id,\n",
    "                      min(date(drug_exposure_start_datetime)) as take_start_date,\n",
    "                      max(date(drug_exposure_end_datetime)) as take_end_date,\n",
    "                      sum(date(drug_exposure_end_datetime) - date(drug_exposure_start_datetime) + 1) as take_cnt\n",
    "               from drug_exposure\n",
    "               where person_id = '1891866'\n",
    "               group by drug_concept_id\n",
    "               order by take_cnt desc;\"\"\")\n",
    "#drug_taken_data = cur.fetchall()\n",
    "drug_take_data = cur.fetchall()\n",
    "print(drug_take_data)"
   ]
  },
  {
   "cell_type": "markdown",
   "id": "906c27d9",
   "metadata": {},
   "source": [
    "##### 아래 셀 실행하면 테이블에 데이터가 들어갑니다!(이미 4번 들어갔습니다..)"
   ]
  },
  {
   "cell_type": "code",
   "execution_count": 30,
   "id": "da05ca33",
   "metadata": {},
   "outputs": [
    {
     "name": "stdout",
     "output_type": "stream",
     "text": [
      "(19009384, datetime.date(1959, 12, 1), datetime.date(1998, 10, 6), 14424)\n",
      "(1539463, datetime.date(1990, 3, 13), datetime.date(1998, 3, 11), 5484)\n",
      "(19030765, datetime.date(1988, 10, 18), datetime.date(1998, 10, 5), 1214)\n",
      "(40213154, datetime.date(1989, 9, 12), datetime.date(1998, 7, 7), 10)\n",
      "(40213227, datetime.date(1993, 1, 5), datetime.date(1993, 1, 5), 1)\n"
     ]
    }
   ],
   "source": [
    "insert_query = \"\"\"insert into drug_take(drug_concept_id, take_start_date, take_end_date, take_cnt) values(%s,%s,%s,%s)\"\"\"\n",
    "\n",
    "for data in drug_take_data:\n",
    "    print(data)\n",
    "    cur.execute(insert_query, data)\n",
    "connection.commit()"
   ]
  },
  {
   "cell_type": "markdown",
   "id": "ba7288a8",
   "metadata": {},
   "source": [
    "## (PASS) 4번 문제\n"
   ]
  },
  {
   "cell_type": "code",
   "execution_count": null,
   "id": "0d30e878",
   "metadata": {},
   "outputs": [],
   "source": []
  },
  {
   "cell_type": "markdown",
   "id": "e29ff65f",
   "metadata": {},
   "source": [
    "## 5번 문제\n",
    "* 방문마다 다른지 / 사람마다 다른지, 90일이 연속적인지 / 분할인지, 중복 여부는? (한 환자가 두 번 방문해서 둘 다 90일 이상 복용했다면?)\n",
    "\n",
    "* 방문마다 다른 건수로 카운트, 쪼개진 90일 복용은 의미 없을거라 생각해 90일이 연속적으로 나올 경우만 고려, 더불어 person_id 중복도 카운트에 포함 (한 환자가 두번 90번 복용했어도 다른 건수로 카운트 해야하지 않는가?)"
   ]
  },
  {
   "cell_type": "code",
   "execution_count": 8,
   "id": "a7312512",
   "metadata": {},
   "outputs": [
    {
     "name": "stdout",
     "output_type": "stream",
     "text": [
      "(690,)\n"
     ]
    }
   ],
   "source": [
    "cur.execute(\"\"\"with da as (\n",
    "                    select p.person_id, p.year_of_birth, \n",
    "                           co.condition_concept_id, \n",
    "                           co.visit_occurrence_id\n",
    "                    from person as p\n",
    "                    join condition_occurrence as co \n",
    "                    on p.person_id =co.person_id\n",
    "                    where co.condition_concept_id in (3191208,36684827,3194332,3193274,43531010,4130162,45766052,45757474,4099651,4129519,4063043,4230254,4193704,4304377,201826,3194082,3192767) \n",
    "                    and p.year_of_birth < 2005),\n",
    "                med as (\n",
    "                    select de.person_id, \n",
    "                           de.drug_concept_id, \n",
    "                           de.drug_exposure_start_datetime, \n",
    "                           de.drug_exposure_end_datetime,\n",
    "                           date(de.drug_exposure_end_datetime) - date(de.drug_exposure_start_datetime) + 1 as taken_cnt\n",
    "                    from drug_exposure as de\n",
    "                    join da \n",
    "                    on de.person_id = da.person_id\n",
    "                    where drug_concept_id = '40163924' \n",
    "                    and date(de.drug_exposure_end_datetime) - date(de.drug_exposure_start_datetime) + 1 > 89)\n",
    "                select count(person_id)\n",
    "                from med;\"\"\")\n",
    "# count\n",
    "print(cur.fetchone()) "
   ]
  },
  {
   "cell_type": "markdown",
   "id": "6cf4ff99",
   "metadata": {},
   "source": [
    "## (PASS) 6번 문제"
   ]
  },
  {
   "cell_type": "code",
   "execution_count": null,
   "id": "ef31ddb0",
   "metadata": {},
   "outputs": [],
   "source": []
  },
  {
   "cell_type": "markdown",
   "id": "61274fe6",
   "metadata": {},
   "source": [
    "## (미완성) 7번 문제\n",
    "clinical_note는 한 환자의 의료 기록"
   ]
  },
  {
   "cell_type": "markdown",
   "id": "edf8ed08",
   "metadata": {},
   "source": [
    "* insertPerson() : person 테이블에 넣을 데이터를 뽑아오는 함수"
   ]
  },
  {
   "cell_type": "code",
   "execution_count": 9,
   "id": "ccb09a87",
   "metadata": {},
   "outputs": [],
   "source": [
    "def insertPerson(s):\n",
    "    personid,year,month,day,deathd = 0,0,0,0,0 # 아이디, 년, 월, 일, 사망날짜\n",
    "    gender,race,ethnicity = '','','' # 성별, 인종, 민족성\n",
    "    data = s.split('\\n') # 줄바꿈으로 나누기\n",
    "    # 데이터 가져오기\n",
    "    for i in range(2,len(data)): \n",
    "        temp = data[i].split(':')\n",
    "        if temp[0] == 'Race':\n",
    "            race = temp[1].replace(\" \",\"\")\n",
    "        elif temp[0] == 'Ethnicity':\n",
    "            ethnicity = temp[1].replace(\" \",\"\")\n",
    "        elif temp[0] == 'Gender':\n",
    "            gender = temp[1].replace(\" \",\"\")\n",
    "        elif temp[0] == 'Birth Date':\n",
    "            bdate = temp[1].replace(\" \",\"\").split('-')\n",
    "            year, month, day = bdate[0],bdate[1],bdate[2]\n",
    "    print(race, ethnicity, gender, year, month, day)"
   ]
  },
  {
   "cell_type": "code",
   "execution_count": 10,
   "id": "77cfe1c2",
   "metadata": {},
   "outputs": [
    {
     "name": "stdout",
     "output_type": "stream",
     "text": [
      "Andrea7 Wolf938\n",
      "===============\n",
      "Race:                White\n",
      "Ethnicity:           Non-Hispanic\n",
      "Gender:              M\n",
      "Age:                 55\n",
      "Birth Date:          1965-04-22\n",
      "Marital Status:      M\n",
      "\n",
      "*************\n",
      "\n",
      "ALLERGIES:\n",
      "No Known Allergies\n",
      "\n",
      "*************\n",
      "\n",
      "ENCOUNTER\n",
      "2011-06-20 : Encounter at Cape Cod Vet Center : Encounter for Acute bronchitis (disorder)\n",
      "Type: ambulatory\n",
      "   \n",
      "   MEDICATIONS:\n",
      "  2011-06-20 : Acetaminophen 325 MG Oral Tablet for Acute bronchitis (disorder)\n",
      "   \n",
      "   CONDITIONS:\n",
      "  2011-06-20 : Acute bronchitis (disorder)\n",
      "   \n",
      "   CARE PLANS:\n",
      "  2011-06-20 : Respiratory therapy\n",
      "                         Reason: Acute bronchitis (disorder)\n",
      "                         Activity: Recommendation to avoid exercise\n",
      "                         Activity: Deep breathing and coughing exercises\n",
      "   \n",
      "   REPORTS:\n",
      "   \n",
      "   OBSERVATIONS:\n",
      "   \n",
      "   PROCEDURES:\n",
      "  2011-06-20 : Sputum examination (procedure) for Acute bronchitis (disorder)\n",
      "   \n",
      "   IMMUNIZATIONS:\n",
      "   \n",
      "   IMAGING STUDIES:\n",
      "   \n",
      "\n",
      "*************\n",
      "White Non-Hispanic M 1965 04 22\n",
      "None\n"
     ]
    }
   ],
   "source": [
    "cur.execute(\"\"\"select note\n",
    "            from clinical_note;\"\"\")\n",
    "data_ = cur.fetchone()\n",
    "\n",
    "data = data_[0].split('--------------------------------------------------------------------------------')\n",
    "# 위처럼 나눴을 때 len(data) == 5 이므로, 0,1,2까지만 뽑으면 COUNTINUING 이후 제외됨\n",
    "for i in range(3):\n",
    "    print(data[i])\n",
    "    print('*************')\n",
    "        \n",
    "print(insertPerson(data[0]))\n",
    "    \n",
    "    "
   ]
  },
  {
   "cell_type": "code",
   "execution_count": null,
   "id": "e431a453",
   "metadata": {},
   "outputs": [],
   "source": []
  },
  {
   "cell_type": "code",
   "execution_count": null,
   "id": "69efcc0a",
   "metadata": {},
   "outputs": [],
   "source": []
  },
  {
   "cell_type": "code",
   "execution_count": null,
   "id": "870be2a1",
   "metadata": {},
   "outputs": [],
   "source": []
  },
  {
   "cell_type": "code",
   "execution_count": null,
   "id": "ac6d22af",
   "metadata": {},
   "outputs": [],
   "source": []
  },
  {
   "cell_type": "code",
   "execution_count": null,
   "id": "4120db72",
   "metadata": {},
   "outputs": [],
   "source": []
  },
  {
   "cell_type": "code",
   "execution_count": null,
   "id": "ac8dbcef",
   "metadata": {},
   "outputs": [],
   "source": []
  },
  {
   "cell_type": "code",
   "execution_count": null,
   "id": "59a00e76",
   "metadata": {},
   "outputs": [],
   "source": []
  },
  {
   "cell_type": "code",
   "execution_count": null,
   "id": "d26a3149",
   "metadata": {},
   "outputs": [],
   "source": []
  }
 ],
 "metadata": {
  "kernelspec": {
   "display_name": "Python 3",
   "language": "python",
   "name": "python3"
  },
  "language_info": {
   "codemirror_mode": {
    "name": "ipython",
    "version": 3
   },
   "file_extension": ".py",
   "mimetype": "text/x-python",
   "name": "python",
   "nbconvert_exporter": "python",
   "pygments_lexer": "ipython3",
   "version": "3.8.10"
  }
 },
 "nbformat": 4,
 "nbformat_minor": 5
}
